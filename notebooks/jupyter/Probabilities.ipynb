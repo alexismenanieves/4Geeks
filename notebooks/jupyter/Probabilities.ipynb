{
 "cells": [
  {
   "cell_type": "markdown",
   "metadata": {},
   "source": [
    "## **Probabilities**\n",
    "\n",
    "In 1814, Pierre-Simon Laplace wrote:  \n",
    "> Probability theory is nothing but common sense reduced to calculation. \n",
    "... [Probability] is thus simply a fraction whose numerator is the \n",
    "number of favorable cases and whose denominator is the number of all \n",
    "the cases possible ... when nothing leads us to expect that any one of \n",
    "these cases should occur more than any other.\n",
    "\n",
    "Laplace nailed it. To untangle a probability problem, all you have to do \n",
    "is define exactly what the cases are, and careful count the favorable \n",
    "and total cases. Let's be clear on our vocabulary words:\n",
    "\n",
    "- **Trial:**  \n",
    "A single occurrence with an outcome that is uncertain until we observe it. \n",
    "*For example, rolling a single die.*\n",
    "- **Outcome:**  \n",
    "A possible result of a trial; one particular state of the world. What \n",
    "Laplace calls a **case.** *For example:* `4`.\n",
    "- **Sample Space:**  \n",
    "The set of all possible outcomes for the trial. \n",
    "*For example,* `{1, 2, 3, 4, 5, 6}`.\n",
    "- **Event:**  \n",
    "A subset of the sample space, a set of outcomes that together have some \n",
    "property we are interested in.  \n",
    "*For example, the event \"even die roll\" is the set of outcomes* \n",
    "`{2, 4, 6}`. \n",
    "- **Probability:**  \n",
    "As Laplace said, the probability of an event with respect to a sample \n",
    "space is the \"number of favorable cases\" (outcomes from the sample space \n",
    "that are in the event) divided by the \"number of all the cases\" in the \n",
    "sample space (assuming \"nothing leads us to expect that any one of these \n",
    "cases should occur more than any other\"). Since this is a proper \n",
    "fraction, probability will always be a number between 0 (representing an \n",
    "impossible event) and 1 (representing a certain event).  \n",
    "*For example, the probability of an even die roll is 3/6 = 1/2.*"
   ]
  },
  {
   "cell_type": "code",
   "execution_count": 1,
   "metadata": {},
   "outputs": [],
   "source": [
    "# Step 0. Load libraries and custom modules\n",
    "# Basics ---------------------------------------------------------------\n",
    "import os\n",
    "import pickle\n",
    "import random\n",
    "# Maths ----------------------------------------------------------------\n",
    "from fractions import Fraction\n",
    "# Data -----------------------------------------------------------------\n",
    "import pandas as pd\n",
    "import numpy as np\n",
    "# Graphics -------------------------------------------------------------\n",
    "import matplotlib.pyplot as plt\n",
    "# Custom modules -------------------------------------------------------\n",
    "def Pr(event: set, space: set)->Fraction:\n",
    "    \"\"\"\n",
    "    The probability of a event, given a space\n",
    "    \"\"\"\n",
    "    return Fraction(len(set.intersection(event, space)),len(space))"
   ]
  },
  {
   "cell_type": "markdown",
   "metadata": {},
   "source": [
    "**1.** What's the probability of rolling an even number with a single six-sided fair die?  \n",
    "- space = $\\{1,2,3,4,5,6\\}$\n",
    "- event = $\\{2,4,6\\}$"
   ]
  },
  {
   "cell_type": "code",
   "execution_count": 2,
   "metadata": {},
   "outputs": [
    {
     "data": {
      "text/plain": [
       "Fraction(1, 2)"
      ]
     },
     "execution_count": 2,
     "metadata": {},
     "output_type": "execute_result"
    }
   ],
   "source": [
    "Pr({2,4,6},{1,2,3,4,5,6})"
   ]
  },
  {
   "cell_type": "markdown",
   "metadata": {},
   "source": [
    "**2.** What's the probability of rolling an even or prime number with a single six-sided fair die?  \n",
    "- space = $\\{1,2,3,4,5,6\\}$\n",
    "- event = $\\{2,4,6\\}$ (even) **or** $\\{2,3,5\\}$ (prime)"
   ]
  },
  {
   "cell_type": "code",
   "execution_count": 3,
   "metadata": {},
   "outputs": [
    {
     "data": {
      "text/plain": [
       "Fraction(5, 6)"
      ]
     },
     "execution_count": 3,
     "metadata": {},
     "output_type": "execute_result"
    }
   ],
   "source": [
    "Pr(({2,4,6}|{2,3,5}),{1,2,3,4,5,6})"
   ]
  },
  {
   "cell_type": "markdown",
   "metadata": {},
   "source": [
    "**2.** What's the probability of rolling an even or prime number with a single six-sided fair die?  \n",
    "- space = $\\{1,2,3,4,5,6\\}$\n",
    "- event = $\\{2,4,6\\}$ (even) **and** $\\{2,3,5\\}$ (prime)"
   ]
  },
  {
   "cell_type": "code",
   "execution_count": 4,
   "metadata": {},
   "outputs": [
    {
     "data": {
      "text/plain": [
       "Fraction(1, 6)"
      ]
     },
     "execution_count": 4,
     "metadata": {},
     "output_type": "execute_result"
    }
   ],
   "source": [
    "Pr(({2,4,6}&{2,3,5}),{1,2,3,4,5,6})"
   ]
  },
  {
   "cell_type": "markdown",
   "metadata": {},
   "source": [
    "**Frequentist Theory for probabilities**  \n",
    "Theories about relative frequence say that, the only valid procedure to determine probabilities of an event is by repeated experiments. So:\n",
    "$$ Pr(E) = \\lim_{n \\to \\infty}\\frac{x}{n}$$\n",
    "This approach is grounded in the law of large numbers, which states that as the number of trials increases, the relative frequency of an event will converge to its true probability.[1]"
   ]
  },
  {
   "cell_type": "markdown",
   "metadata": {},
   "source": [
    "**Monte Carlo method**  \n",
    "Monte Carlo methods, or Monte Carlo experiments, are a broad class of computational algorithms that rely on repeated random sampling to obtain numerical results. The underlying concept is to use randomness to solve problems that might be deterministic in principle. The name comes from the Monte Carlo Casino in Monaco, where the primary developer of the method, mathematician Stanisław Ulam, was inspired by his uncle's gambling habits.[2]"
   ]
  },
  {
   "cell_type": "markdown",
   "metadata": {},
   "source": [
    "**4.** What's the probability of rolling an even number with a single six-sided fair die? Calculate the relative frequency on many trials (could be up to 1000)"
   ]
  },
  {
   "cell_type": "code",
   "execution_count": 5,
   "metadata": {},
   "outputs": [],
   "source": [
    "# Create a list of events, results, and trials\n",
    "events = [2,4,6]\n",
    "results = [1,2,3,4,5,6]\n",
    "trials = list(range(1,1001))\n",
    "freq = []\n",
    "# For each trial, calculate the relative frequency of success, and save\n",
    "for trial in trials:\n",
    "    total = 0\n",
    "    for i in range(trial):\n",
    "        if random.choice(results) in events:\n",
    "            total += 1\n",
    "    freq.append(total/trial)"
   ]
  },
  {
   "cell_type": "code",
   "execution_count": 6,
   "metadata": {},
   "outputs": [
    {
     "data": {
      "image/png": "[encoded data removed]",
      "text/plain": [
       "<Figure size 640x480 with 1 Axes>"
      ]
     },
     "metadata": {},
     "output_type": "display_data"
    }
   ],
   "source": [
    "# Plot the relative frequency, you'll see how it converges\n",
    "plt.plot(trials, freq, color='navy')\n",
    "plt.xlabel('Trials')\n",
    "plt.ylabel('Relative frequence')\n",
    "plt.axhline(y=1/2, color='tomato', linestyle='--')\n",
    "plt.grid(True)\n",
    "plt.title('Fig 1. Relative frequency vs number of trials')\n",
    "plt.show()"
   ]
  },
  {
   "cell_type": "markdown",
   "metadata": {},
   "source": [
    "**The tale of Ali Kwazoor**\n",
    "\n",
    "The Wise Man held out two boxes. One box was red, the other yellow.\n",
    "\n",
    "“In the red box there are four pebbles—one black pebble and three\n",
    "white ones,” said the Wise Man. “In the yellow box there are seven\n",
    "pebbles—three black ones and four white ones. Without looking, you\n",
    "must take a pebble from one of the boxes. If you pick a black pebble,\n",
    "the treasure is yours. But if you pick a white pebble, you will leave no\n",
    "richer than you came!”[3]\n",
    "\n",
    "Which box would you take?"
   ]
  },
  {
   "cell_type": "code",
   "execution_count": 7,
   "metadata": {},
   "outputs": [
    {
     "name": "stdout",
     "output_type": "stream",
     "text": [
      "Prob: 1/4, dec: 0.25\n",
      "Prob: 3/7, dec: 0.43\n"
     ]
    }
   ],
   "source": [
    "# Create the boxes, calculate the probabilities\n",
    "red_box = {1,-1,-2,-3}\n",
    "yellow_box = [1,2,3,-1,-2,-3,-4]\n",
    "prob_red = Pr({1},red_box)\n",
    "dec_prob_red = prob_red.numerator/prob_red.denominator\n",
    "prob_yellow = Pr({1, 2, 3}, yellow_box)\n",
    "dec_prob_yellow = prob_yellow.numerator/prob_yellow.denominator\n",
    "print(f'Prob: {prob_red}, dec: {dec_prob_red:.2f}')\n",
    "print(f'Prob: {prob_yellow}, dec: {dec_prob_yellow:.2f}')"
   ]
  },
  {
   "cell_type": "markdown",
   "metadata": {},
   "source": [
    "**The Birthday Problem**  \n",
    "\n",
    "Suppose you are in a classroom with 50 people. If we assume this is a randomly selected group of 50 people, what is the chance that at least two people have the same birthday? Although it is somewhat advanced, we can deduce this mathematically. We will do this later. Here we use a Monte Carlo simulation. For simplicity, we assume nobody was born on February 29. This actually doesn’t change the answer much.\n",
    "\n",
    "First, note that birthdays can be represented as numbers between 1 and 365, so a sample of 50 birthdays can be obtained like this:"
   ]
  },
  {
   "cell_type": "code",
   "execution_count": 8,
   "metadata": {},
   "outputs": [
    {
     "name": "stdout",
     "output_type": "stream",
     "text": [
      "Probability of at least two people having the same birthday is 0.9702\n"
     ]
    }
   ],
   "source": [
    "# Let's proceed with a numpy approach. Create n birthdays at random\n",
    "n = 50\n",
    "bdays = np.random.choice(range(1, 366), n, replace=True)\n",
    "B = 10_000\n",
    "results = []\n",
    "for i in range(B):\n",
    "    bdays = np.random.choice(range(1, 366), n, replace=True)\n",
    "    if len(np.unique(bdays)) < n:\n",
    "        results.append(1)\n",
    "    else:\n",
    "        results.append(0)\n",
    "\n",
    "text = \"Probability of at least two people having the same birthday is \" \n",
    "text += str(np.mean(results))\n",
    "print(text)\n"
   ]
  },
  {
   "cell_type": "markdown",
   "metadata": {},
   "source": [
    "**Independence**\n",
    "\n",
    "Suppose you toss a coin twice. Each result is independent because the \n",
    "result of one coin doesn't influence the other. We say that the events \n",
    "are independent. For each coin, the probability of getting heads or \n",
    "tails is the same (0.5). So, what is the probability of getting a second \n",
    "head, if in the first toss I got a head?  \n",
    "\n",
    "**Pr**(Toss 2 is a head|Toss 1 is a head) = 0.5\n",
    "\n",
    "Now, suppose you are in a card game, and we deal a first card, say King. \n",
    "The probability of getting a King is 4/52 = 1/13. Now, what would be the \n",
    "probability of getting another King, if in the first extraction we got \n",
    "a King? These events are not independent. \n",
    "\n",
    "**Pr**(Card 2 is a King|Card 1 is a King) = 3/51"
   ]
  },
  {
   "cell_type": "code",
   "execution_count": 9,
   "metadata": {},
   "outputs": [],
   "source": [
    "# Let's create a deck of cards\n",
    "suits = ['Heart-']*13 + ['Diamond-']*13 + ['Spade-']*13 + ['Club-']*13\n",
    "ranks = ['2','3','4','5','6','7','8','9','10','J','Q','K','A'] * 4\n",
    "deck = np.char.add(suits, ranks)"
   ]
  },
  {
   "cell_type": "code",
   "execution_count": 10,
   "metadata": {},
   "outputs": [
    {
     "data": {
      "text/plain": [
       "np.float64(0.0059970000000000015)"
      ]
     },
     "execution_count": 10,
     "metadata": {},
     "output_type": "execute_result"
    }
   ],
   "source": [
    "# Let's create our Monte Carlo simulation\n",
    "results = []\n",
    "for i in range(1000):\n",
    "    tryout = []\n",
    "    for j in range(1000):\n",
    "        extraction_1 = np.random.choice(deck)\n",
    "        if extraction_1.endswith(\"-A\"):\n",
    "            extraction_2 = np.random.choice(deck)\n",
    "            if extraction_2.endswith(\"-A\"):\n",
    "                tryout.append(1)\n",
    "            else:\n",
    "                tryout.append(0)\n",
    "        else:\n",
    "            tryout.append(0)\n",
    "    results.append(np.mean(tryout))\n",
    "np.mean(results)"
   ]
  }
 ],
 "metadata": {
  "kernelspec": {
   "display_name": ".venv",
   "language": "python",
   "name": "python3"
  },
  "language_info": {
   "codemirror_mode": {
    "name": "ipython",
    "version": 3
   },
   "file_extension": ".py",
   "mimetype": "text/x-python",
   "name": "python",
   "nbconvert_exporter": "python",
   "pygments_lexer": "ipython3",
   "version": "3.10.10"
  }
 },
 "nbformat": 4,
 "nbformat_minor": 2
}
